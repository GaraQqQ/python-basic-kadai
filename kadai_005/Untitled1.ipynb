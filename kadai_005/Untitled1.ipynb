{
  "nbformat": 4,
  "nbformat_minor": 0,
  "metadata": {
    "colab": {
      "provenance": []
    },
    "kernelspec": {
      "name": "python3",
      "display_name": "Python 3"
    },
    "language_info": {
      "name": "python"
    }
  },
  "cells": [
    {
      "cell_type": "code",
      "source": [
        "# 台形の上辺、下辺、高さを定義\n",
        "上辺 = 10\n",
        "下辺 = 20\n",
        "高さ = 5\n",
        "\n",
        "# 台形の面積を計算\n",
        "面積 = (上辺 + 下辺) * 高さ / 2\n",
        "\n",
        "# 面積を表示\n",
        "print(str(面積) + \"㎠\")"
      ],
      "metadata": {
        "colab": {
          "base_uri": "https://localhost:8080/"
        },
        "id": "FVS6Ra1KwZ-P",
        "outputId": "c48d2ec3-00bb-46af-ff21-05d3d934f17f"
      },
      "execution_count": 71,
      "outputs": [
        {
          "output_type": "stream",
          "name": "stdout",
          "text": [
            "75.0㎠\n"
          ]
        }
      ]
    }
  ]
}