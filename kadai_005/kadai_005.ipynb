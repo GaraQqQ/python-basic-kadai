{
  "nbformat": 4,
  "nbformat_minor": 0,
  "metadata": {
    "colab": {
      "provenance": []
    },
    "kernelspec": {
      "name": "python3",
      "display_name": "Python 3"
    },
    "language_info": {
      "name": "python"
    }
  },
  "cells": [
    {
      "cell_type": "code",
      "source": [
        "# 台形の上辺、下辺、高さを定義\n",
        "上辺 = 10\n",
        "下辺 = 20\n",
        "高さ = 5\n",
        "\n",
        "# 台形の面積を計算\n",
        "area = (上辺 + 下辺) * 高さ / 2\n",
        "\n",
        "# 面積を表示\n",
        "print(f\"台形の面積は {area} \")"
      ],
      "metadata": {
        "colab": {
          "base_uri": "https://localhost:8080/"
        },
        "id": "7u6kw5BceKta",
        "outputId": "4e35c6f6-d9cb-40cd-b2e3-d116a3e7a417"
      },
      "execution_count": 10,
      "outputs": [
        {
          "output_type": "stream",
          "name": "stdout",
          "text": [
            "台形の面積は 75.0 \n"
          ]
        }
      ]
    }
  ]
}