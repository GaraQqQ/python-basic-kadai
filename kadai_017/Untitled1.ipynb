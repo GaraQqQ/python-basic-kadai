{
  "nbformat": 4,
  "nbformat_minor": 0,
  "metadata": {
    "colab": {
      "provenance": []
    },
    "kernelspec": {
      "name": "python3",
      "display_name": "Python 3"
    },
    "language_info": {
      "name": "python"
    }
  },
  "cells": [
    {
      "cell_type": "code",
      "source": [
        "class Human:\n",
        "    def __init__(self, name, age):\n",
        "        self.name = name\n",
        "        self.age = age\n",
        "\n",
        "    def check_adult(self):\n",
        "        if self.age >= 20:\n",
        "            print(f\"{self.name}は大人です。\")\n",
        "        else:\n",
        "            print(f\"{self.name}は大人ではありません。\")\n",
        "\n",
        "human_list = [\n",
        "      Human(\"侍太郎\", 30),\n",
        "      Human(\"花子\", 15),\n",
        "      Human(\"一郎\", 25),\n",
        "      Human(\"二郎\", 18)\n",
        "]\n",
        "\n",
        "for human in human_list:\n",
        "    human.check_adult()"
      ],
      "metadata": {
        "colab": {
          "base_uri": "https://localhost:8080/"
        },
        "id": "piiJZ317g15a",
        "outputId": "8d2a8788-6630-431c-b417-fefc0b914bc3"
      },
      "execution_count": 6,
      "outputs": [
        {
          "output_type": "stream",
          "name": "stdout",
          "text": [
            "侍太郎は大人です。\n",
            "花子は大人ではありません。\n",
            "一郎は大人です。\n",
            "二郎は大人ではありません。\n"
          ]
        }
      ]
    }
  ]
}