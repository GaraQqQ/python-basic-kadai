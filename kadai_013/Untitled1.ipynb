{
  "nbformat": 4,
  "nbformat_minor": 0,
  "metadata": {
    "colab": {
      "provenance": []
    },
    "kernelspec": {
      "name": "python3",
      "display_name": "Python 3"
    },
    "language_info": {
      "name": "python"
    }
  },
  "cells": [
    {
      "cell_type": "code",
      "source": [
        "def calculate_price_with_tax(price: float, tax_rate: float) -> float:\n",
        "  \"\"\"\n",
        "  商品の金額と消費税率から、消費税を含めた金額を計算して返します。\n",
        "\n",
        "  Args:\n",
        "    price: 商品の金額\n",
        "    tax_rate: 消費税率 (%)\n",
        "\n",
        "  Returns:\n",
        "    消費税を含めた金額\n",
        "  \"\"\"\n",
        "  tax_amount = price * (tax_rate / 100)\n",
        "  total_price = price + tax_amount\n",
        "  return total_price\n",
        "\n",
        "# 関数の実行例\n",
        "item_price = 110\n",
        "consumption_tax_rate = 10\n",
        "price_with_tax = calculate_price_with_tax(item_price, consumption_tax_rate)\n",
        "\n",
        "print(f\"商品の金額: {item_price}円\")\n",
        "print(f\"消費税率: {consumption_tax_rate}%\")\n",
        "print(f\"消費税込みの金額: {price_with_tax}円\")"
      ],
      "metadata": {
        "colab": {
          "base_uri": "https://localhost:8080/"
        },
        "id": "EHMpT6c7UaVp",
        "outputId": "db736b35-34c3-4ab1-ee7e-ca9ea5ee79f9"
      },
      "execution_count": 16,
      "outputs": [
        {
          "output_type": "stream",
          "name": "stdout",
          "text": [
            "商品の金額: 110円\n",
            "消費税率: 10%\n",
            "消費税込みの金額: 121.0円\n"
          ]
        }
      ]
    }
  ]
}